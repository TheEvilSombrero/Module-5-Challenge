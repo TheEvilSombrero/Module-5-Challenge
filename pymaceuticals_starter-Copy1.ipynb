{
 "cells": [
  {
   "cell_type": "markdown",
   "metadata": {},
   "source": [
    "# Pymaceuticals Inc.\n",
    "---\n",
    "\n",
    "### Analysis\n",
    "\n",
    "- Add your analysis here.\n",
    " "
   ]
  },
  {
   "cell_type": "code",
   "execution_count": 1,
   "metadata": {},
   "outputs": [
    {
     "data": {
      "text/html": [
       "<div>\n",
       "<style scoped>\n",
       "    .dataframe tbody tr th:only-of-type {\n",
       "        vertical-align: middle;\n",
       "    }\n",
       "\n",
       "    .dataframe tbody tr th {\n",
       "        vertical-align: top;\n",
       "    }\n",
       "\n",
       "    .dataframe thead th {\n",
       "        text-align: right;\n",
       "    }\n",
       "</style>\n",
       "<table border=\"1\" class=\"dataframe\">\n",
       "  <thead>\n",
       "    <tr style=\"text-align: right;\">\n",
       "      <th></th>\n",
       "      <th>Mouse ID</th>\n",
       "      <th>Drug Regimen</th>\n",
       "      <th>Sex</th>\n",
       "      <th>Age_months</th>\n",
       "      <th>Weight (g)</th>\n",
       "      <th>Timepoint</th>\n",
       "      <th>Tumor Volume (mm3)</th>\n",
       "      <th>Metastatic Sites</th>\n",
       "    </tr>\n",
       "  </thead>\n",
       "  <tbody>\n",
       "    <tr>\n",
       "      <th>0</th>\n",
       "      <td>k403</td>\n",
       "      <td>Ramicane</td>\n",
       "      <td>Male</td>\n",
       "      <td>21</td>\n",
       "      <td>16</td>\n",
       "      <td>0</td>\n",
       "      <td>45.000000</td>\n",
       "      <td>0</td>\n",
       "    </tr>\n",
       "    <tr>\n",
       "      <th>1</th>\n",
       "      <td>k403</td>\n",
       "      <td>Ramicane</td>\n",
       "      <td>Male</td>\n",
       "      <td>21</td>\n",
       "      <td>16</td>\n",
       "      <td>5</td>\n",
       "      <td>38.825898</td>\n",
       "      <td>0</td>\n",
       "    </tr>\n",
       "    <tr>\n",
       "      <th>2</th>\n",
       "      <td>k403</td>\n",
       "      <td>Ramicane</td>\n",
       "      <td>Male</td>\n",
       "      <td>21</td>\n",
       "      <td>16</td>\n",
       "      <td>10</td>\n",
       "      <td>35.014271</td>\n",
       "      <td>1</td>\n",
       "    </tr>\n",
       "    <tr>\n",
       "      <th>3</th>\n",
       "      <td>k403</td>\n",
       "      <td>Ramicane</td>\n",
       "      <td>Male</td>\n",
       "      <td>21</td>\n",
       "      <td>16</td>\n",
       "      <td>15</td>\n",
       "      <td>34.223992</td>\n",
       "      <td>1</td>\n",
       "    </tr>\n",
       "    <tr>\n",
       "      <th>4</th>\n",
       "      <td>k403</td>\n",
       "      <td>Ramicane</td>\n",
       "      <td>Male</td>\n",
       "      <td>21</td>\n",
       "      <td>16</td>\n",
       "      <td>20</td>\n",
       "      <td>32.997729</td>\n",
       "      <td>1</td>\n",
       "    </tr>\n",
       "  </tbody>\n",
       "</table>\n",
       "</div>"
      ],
      "text/plain": [
       "  Mouse ID Drug Regimen   Sex  Age_months  Weight (g)  Timepoint  \\\n",
       "0     k403     Ramicane  Male          21          16          0   \n",
       "1     k403     Ramicane  Male          21          16          5   \n",
       "2     k403     Ramicane  Male          21          16         10   \n",
       "3     k403     Ramicane  Male          21          16         15   \n",
       "4     k403     Ramicane  Male          21          16         20   \n",
       "\n",
       "   Tumor Volume (mm3)  Metastatic Sites  \n",
       "0           45.000000                 0  \n",
       "1           38.825898                 0  \n",
       "2           35.014271                 1  \n",
       "3           34.223992                 1  \n",
       "4           32.997729                 1  "
      ]
     },
     "execution_count": 1,
     "metadata": {},
     "output_type": "execute_result"
    }
   ],
   "source": [
    "# Dependencies and Setup\n",
    "import matplotlib.pyplot as plt\n",
    "import pandas as pd\n",
    "import scipy.stats as st\n",
    "import numpy as np\n",
    "\n",
    "# Study data files\n",
    "mouse_metadata_path = \"data/Mouse_metadata.csv\"\n",
    "study_results_path = \"data/Study_results.csv\"\n",
    "\n",
    "# Read the mouse data and the study results\n",
    "mouse_metadata = pd.read_csv(mouse_metadata_path)\n",
    "study_results = pd.read_csv(study_results_path)\n",
    "\n",
    "# Combine the data into a single dataset\n",
    "mouse_df = pd.merge(mouse_metadata, study_results, on=\"Mouse ID\", how=\"outer\")\n",
    "\n",
    "# Display the data table for preview\n",
    "mouse_df.head()"
   ]
  },
  {
   "cell_type": "code",
   "execution_count": 2,
   "metadata": {},
   "outputs": [
    {
     "name": "stdout",
     "output_type": "stream",
     "text": [
      "There are 249 mice.\n"
     ]
    }
   ],
   "source": [
    "# Checking the number of mice.\n",
    "mouse_df[\"Mouse ID\"].unique()\n",
    "number_of_mice = len(mouse_df[\"Mouse ID\"].unique())\n",
    "print(f\"There are {number_of_mice} mice.\")"
   ]
  },
  {
   "cell_type": "code",
   "execution_count": 3,
   "metadata": {},
   "outputs": [
    {
     "data": {
      "text/plain": [
       "909    g989\n",
       "911    g989\n",
       "913    g989\n",
       "915    g989\n",
       "917    g989\n",
       "Name: Mouse ID, dtype: object"
      ]
     },
     "execution_count": 3,
     "metadata": {},
     "output_type": "execute_result"
    }
   ],
   "source": [
    "# Getting the duplicate mice by ID number that shows up for Mouse ID and Timepoint. \n",
    "duplicate = mouse_df[mouse_df.duplicated([\"Mouse ID\", \"Timepoint\"], keep=\"first\")]\n",
    "duplicate[\"Mouse ID\"]"
   ]
  },
  {
   "cell_type": "code",
   "execution_count": 4,
   "metadata": {},
   "outputs": [
    {
     "data": {
      "text/plain": [
       "Int64Index([908, 909, 910, 911, 912, 913, 914, 915, 916, 917, 918, 919, 920], dtype='int64')"
      ]
     },
     "execution_count": 4,
     "metadata": {},
     "output_type": "execute_result"
    }
   ],
   "source": [
    "# Optional: Get all the data for the duplicate mouse ID. \n",
    "duplicate_data = mouse_df.loc[mouse_df[\"Mouse ID\"] == \"g989\"]\n",
    "duplicate_data.index"
   ]
  },
  {
   "cell_type": "code",
   "execution_count": 5,
   "metadata": {},
   "outputs": [
    {
     "data": {
      "text/html": [
       "<div>\n",
       "<style scoped>\n",
       "    .dataframe tbody tr th:only-of-type {\n",
       "        vertical-align: middle;\n",
       "    }\n",
       "\n",
       "    .dataframe tbody tr th {\n",
       "        vertical-align: top;\n",
       "    }\n",
       "\n",
       "    .dataframe thead th {\n",
       "        text-align: right;\n",
       "    }\n",
       "</style>\n",
       "<table border=\"1\" class=\"dataframe\">\n",
       "  <thead>\n",
       "    <tr style=\"text-align: right;\">\n",
       "      <th></th>\n",
       "      <th>Mouse ID</th>\n",
       "      <th>Drug Regimen</th>\n",
       "      <th>Sex</th>\n",
       "      <th>Age_months</th>\n",
       "      <th>Weight (g)</th>\n",
       "      <th>Timepoint</th>\n",
       "      <th>Tumor Volume (mm3)</th>\n",
       "      <th>Metastatic Sites</th>\n",
       "    </tr>\n",
       "  </thead>\n",
       "  <tbody>\n",
       "    <tr>\n",
       "      <th>0</th>\n",
       "      <td>k403</td>\n",
       "      <td>Ramicane</td>\n",
       "      <td>Male</td>\n",
       "      <td>21</td>\n",
       "      <td>16</td>\n",
       "      <td>0</td>\n",
       "      <td>45.000000</td>\n",
       "      <td>0</td>\n",
       "    </tr>\n",
       "    <tr>\n",
       "      <th>1</th>\n",
       "      <td>k403</td>\n",
       "      <td>Ramicane</td>\n",
       "      <td>Male</td>\n",
       "      <td>21</td>\n",
       "      <td>16</td>\n",
       "      <td>5</td>\n",
       "      <td>38.825898</td>\n",
       "      <td>0</td>\n",
       "    </tr>\n",
       "    <tr>\n",
       "      <th>2</th>\n",
       "      <td>k403</td>\n",
       "      <td>Ramicane</td>\n",
       "      <td>Male</td>\n",
       "      <td>21</td>\n",
       "      <td>16</td>\n",
       "      <td>10</td>\n",
       "      <td>35.014271</td>\n",
       "      <td>1</td>\n",
       "    </tr>\n",
       "    <tr>\n",
       "      <th>3</th>\n",
       "      <td>k403</td>\n",
       "      <td>Ramicane</td>\n",
       "      <td>Male</td>\n",
       "      <td>21</td>\n",
       "      <td>16</td>\n",
       "      <td>15</td>\n",
       "      <td>34.223992</td>\n",
       "      <td>1</td>\n",
       "    </tr>\n",
       "    <tr>\n",
       "      <th>4</th>\n",
       "      <td>k403</td>\n",
       "      <td>Ramicane</td>\n",
       "      <td>Male</td>\n",
       "      <td>21</td>\n",
       "      <td>16</td>\n",
       "      <td>20</td>\n",
       "      <td>32.997729</td>\n",
       "      <td>1</td>\n",
       "    </tr>\n",
       "  </tbody>\n",
       "</table>\n",
       "</div>"
      ],
      "text/plain": [
       "  Mouse ID Drug Regimen   Sex  Age_months  Weight (g)  Timepoint  \\\n",
       "0     k403     Ramicane  Male          21          16          0   \n",
       "1     k403     Ramicane  Male          21          16          5   \n",
       "2     k403     Ramicane  Male          21          16         10   \n",
       "3     k403     Ramicane  Male          21          16         15   \n",
       "4     k403     Ramicane  Male          21          16         20   \n",
       "\n",
       "   Tumor Volume (mm3)  Metastatic Sites  \n",
       "0           45.000000                 0  \n",
       "1           38.825898                 0  \n",
       "2           35.014271                 1  \n",
       "3           34.223992                 1  \n",
       "4           32.997729                 1  "
      ]
     },
     "execution_count": 5,
     "metadata": {},
     "output_type": "execute_result"
    }
   ],
   "source": [
    "# Create a clean DataFrame by dropping the duplicate mouse by its ID.\n",
    "clean_mouse_df = mouse_df.drop(labels=duplicate_data.index, axis=0, inplace=False)\n",
    "clean_mouse_df.reset_index(drop=True)\n",
    "clean_mouse_df.head()"
   ]
  },
  {
   "cell_type": "code",
   "execution_count": 6,
   "metadata": {},
   "outputs": [
    {
     "name": "stdout",
     "output_type": "stream",
     "text": [
      "There are 248 mice.\n"
     ]
    }
   ],
   "source": [
    "# Checking the number of mice in the clean DataFrame.\n",
    "clean_mouse_df[\"Mouse ID\"].unique()\n",
    "number_of_mice = len(clean_mouse_df[\"Mouse ID\"].unique())\n",
    "print(f\"There are {number_of_mice} mice.\")"
   ]
  },
  {
   "cell_type": "markdown",
   "metadata": {},
   "source": [
    "## Summary Statistics"
   ]
  },
  {
   "cell_type": "code",
   "execution_count": 7,
   "metadata": {},
   "outputs": [
    {
     "data": {
      "text/html": [
       "<div>\n",
       "<style scoped>\n",
       "    .dataframe tbody tr th:only-of-type {\n",
       "        vertical-align: middle;\n",
       "    }\n",
       "\n",
       "    .dataframe tbody tr th {\n",
       "        vertical-align: top;\n",
       "    }\n",
       "\n",
       "    .dataframe thead th {\n",
       "        text-align: right;\n",
       "    }\n",
       "</style>\n",
       "<table border=\"1\" class=\"dataframe\">\n",
       "  <thead>\n",
       "    <tr style=\"text-align: right;\">\n",
       "      <th></th>\n",
       "      <th>Average Tumor Volume</th>\n",
       "      <th>Median Tumor Volume</th>\n",
       "      <th>Tumor Volume Variance</th>\n",
       "      <th>Tumor Volume Std. Dev.</th>\n",
       "      <th>Tumor Volume Std. Err.</th>\n",
       "    </tr>\n",
       "    <tr>\n",
       "      <th>Drug Regimen</th>\n",
       "      <th></th>\n",
       "      <th></th>\n",
       "      <th></th>\n",
       "      <th></th>\n",
       "      <th></th>\n",
       "    </tr>\n",
       "  </thead>\n",
       "  <tbody>\n",
       "    <tr>\n",
       "      <th>Capomulin</th>\n",
       "      <td>40.675741</td>\n",
       "      <td>41.557809</td>\n",
       "      <td>24.947764</td>\n",
       "      <td>4.994774</td>\n",
       "      <td>0.329346</td>\n",
       "    </tr>\n",
       "    <tr>\n",
       "      <th>Ceftamin</th>\n",
       "      <td>52.591172</td>\n",
       "      <td>51.776157</td>\n",
       "      <td>39.290177</td>\n",
       "      <td>6.268188</td>\n",
       "      <td>0.469821</td>\n",
       "    </tr>\n",
       "    <tr>\n",
       "      <th>Infubinol</th>\n",
       "      <td>52.884795</td>\n",
       "      <td>51.820584</td>\n",
       "      <td>43.128684</td>\n",
       "      <td>6.567243</td>\n",
       "      <td>0.492236</td>\n",
       "    </tr>\n",
       "    <tr>\n",
       "      <th>Ketapril</th>\n",
       "      <td>55.235638</td>\n",
       "      <td>53.698743</td>\n",
       "      <td>68.553577</td>\n",
       "      <td>8.279709</td>\n",
       "      <td>0.603860</td>\n",
       "    </tr>\n",
       "    <tr>\n",
       "      <th>Naftisol</th>\n",
       "      <td>54.331565</td>\n",
       "      <td>52.509285</td>\n",
       "      <td>66.173479</td>\n",
       "      <td>8.134708</td>\n",
       "      <td>0.596466</td>\n",
       "    </tr>\n",
       "    <tr>\n",
       "      <th>Placebo</th>\n",
       "      <td>54.033581</td>\n",
       "      <td>52.288934</td>\n",
       "      <td>61.168083</td>\n",
       "      <td>7.821003</td>\n",
       "      <td>0.581331</td>\n",
       "    </tr>\n",
       "    <tr>\n",
       "      <th>Propriva</th>\n",
       "      <td>52.320930</td>\n",
       "      <td>50.446266</td>\n",
       "      <td>43.852013</td>\n",
       "      <td>6.622085</td>\n",
       "      <td>0.544332</td>\n",
       "    </tr>\n",
       "    <tr>\n",
       "      <th>Ramicane</th>\n",
       "      <td>40.216745</td>\n",
       "      <td>40.673236</td>\n",
       "      <td>23.486704</td>\n",
       "      <td>4.846308</td>\n",
       "      <td>0.320955</td>\n",
       "    </tr>\n",
       "    <tr>\n",
       "      <th>Stelasyn</th>\n",
       "      <td>54.233149</td>\n",
       "      <td>52.431737</td>\n",
       "      <td>59.450562</td>\n",
       "      <td>7.710419</td>\n",
       "      <td>0.573111</td>\n",
       "    </tr>\n",
       "    <tr>\n",
       "      <th>Zoniferol</th>\n",
       "      <td>53.236507</td>\n",
       "      <td>51.818479</td>\n",
       "      <td>48.533355</td>\n",
       "      <td>6.966589</td>\n",
       "      <td>0.516398</td>\n",
       "    </tr>\n",
       "  </tbody>\n",
       "</table>\n",
       "</div>"
      ],
      "text/plain": [
       "              Average Tumor Volume  Median Tumor Volume  \\\n",
       "Drug Regimen                                              \n",
       "Capomulin                40.675741            41.557809   \n",
       "Ceftamin                 52.591172            51.776157   \n",
       "Infubinol                52.884795            51.820584   \n",
       "Ketapril                 55.235638            53.698743   \n",
       "Naftisol                 54.331565            52.509285   \n",
       "Placebo                  54.033581            52.288934   \n",
       "Propriva                 52.320930            50.446266   \n",
       "Ramicane                 40.216745            40.673236   \n",
       "Stelasyn                 54.233149            52.431737   \n",
       "Zoniferol                53.236507            51.818479   \n",
       "\n",
       "              Tumor Volume Variance  Tumor Volume Std. Dev.  \\\n",
       "Drug Regimen                                                  \n",
       "Capomulin                 24.947764                4.994774   \n",
       "Ceftamin                  39.290177                6.268188   \n",
       "Infubinol                 43.128684                6.567243   \n",
       "Ketapril                  68.553577                8.279709   \n",
       "Naftisol                  66.173479                8.134708   \n",
       "Placebo                   61.168083                7.821003   \n",
       "Propriva                  43.852013                6.622085   \n",
       "Ramicane                  23.486704                4.846308   \n",
       "Stelasyn                  59.450562                7.710419   \n",
       "Zoniferol                 48.533355                6.966589   \n",
       "\n",
       "              Tumor Volume Std. Err.  \n",
       "Drug Regimen                          \n",
       "Capomulin                   0.329346  \n",
       "Ceftamin                    0.469821  \n",
       "Infubinol                   0.492236  \n",
       "Ketapril                    0.603860  \n",
       "Naftisol                    0.596466  \n",
       "Placebo                     0.581331  \n",
       "Propriva                    0.544332  \n",
       "Ramicane                    0.320955  \n",
       "Stelasyn                    0.573111  \n",
       "Zoniferol                   0.516398  "
      ]
     },
     "execution_count": 7,
     "metadata": {},
     "output_type": "execute_result"
    }
   ],
   "source": [
    "# Generate a summary statistics table of mean, median, variance, standard deviation, and SEM of the tumor volume for each regimen\n",
    "\n",
    "# Use groupby and summary statistical methods to calculate the following properties of each drug regimen: \n",
    "# mean, median, variance, standard deviation, and SEM of the tumor volume. \n",
    "mean_tumor_volume = clean_mouse_df.groupby(\"Drug Regimen\").mean()[\"Tumor Volume (mm3)\"]\n",
    "median_tumor_volume = clean_mouse_df.groupby(\"Drug Regimen\").median()[\"Tumor Volume (mm3)\"]\n",
    "variance_tumor_volume = clean_mouse_df.groupby(\"Drug Regimen\").var()[\"Tumor Volume (mm3)\"]\n",
    "tumor_stdev = clean_mouse_df.groupby(\"Drug Regimen\").std()[\"Tumor Volume (mm3)\"]\n",
    "tumor_SEM = clean_mouse_df.groupby(\"Drug Regimen\").sem()[\"Tumor Volume (mm3)\"]\n",
    "\n",
    "# Assemble the resulting series into a single summary DataFrame.\n",
    "summary_df = pd.concat([mean_tumor_volume, median_tumor_volume, variance_tumor_volume, tumor_stdev, tumor_SEM], axis=1)\n",
    "summary_df.columns = [\"Average Tumor Volume\", \"Median Tumor Volume\", \"Tumor Volume Variance\", \"Tumor Volume Std. Dev.\", \"Tumor Volume Std. Err.\"]\n",
    "summary_df"
   ]
  },
  {
   "cell_type": "code",
   "execution_count": 8,
   "metadata": {},
   "outputs": [
    {
     "data": {
      "text/html": [
       "<style  type=\"text/css\" >\n",
       "    #T_0c3e486c_bfb8_11ed_8b1b_309c23923299 caption {\n",
       "          text-align: center;\n",
       "          font-size: 150%;\n",
       "          color: black;\n",
       "    }</style><table id=\"T_0c3e486c_bfb8_11ed_8b1b_309c23923299\" ><caption>Tumor Volume (mm3)</caption><thead>    <tr>        <th class=\"blank level0\" ></th>        <th class=\"col_heading level0 col0\" >mean</th>        <th class=\"col_heading level0 col1\" >median</th>        <th class=\"col_heading level0 col2\" >var</th>        <th class=\"col_heading level0 col3\" >std</th>        <th class=\"col_heading level0 col4\" >sem</th>    </tr>    <tr>        <th class=\"index_name level0\" >Drug Regimen</th>        <th class=\"blank\" ></th>        <th class=\"blank\" ></th>        <th class=\"blank\" ></th>        <th class=\"blank\" ></th>        <th class=\"blank\" ></th>    </tr></thead><tbody>\n",
       "                <tr>\n",
       "                        <th id=\"T_0c3e486c_bfb8_11ed_8b1b_309c23923299level0_row0\" class=\"row_heading level0 row0\" >Capomulin</th>\n",
       "                        <td id=\"T_0c3e486c_bfb8_11ed_8b1b_309c23923299row0_col0\" class=\"data row0 col0\" >40.675741</td>\n",
       "                        <td id=\"T_0c3e486c_bfb8_11ed_8b1b_309c23923299row0_col1\" class=\"data row0 col1\" >41.557809</td>\n",
       "                        <td id=\"T_0c3e486c_bfb8_11ed_8b1b_309c23923299row0_col2\" class=\"data row0 col2\" >24.947764</td>\n",
       "                        <td id=\"T_0c3e486c_bfb8_11ed_8b1b_309c23923299row0_col3\" class=\"data row0 col3\" >4.994774</td>\n",
       "                        <td id=\"T_0c3e486c_bfb8_11ed_8b1b_309c23923299row0_col4\" class=\"data row0 col4\" >0.329346</td>\n",
       "            </tr>\n",
       "            <tr>\n",
       "                        <th id=\"T_0c3e486c_bfb8_11ed_8b1b_309c23923299level0_row1\" class=\"row_heading level0 row1\" >Ceftamin</th>\n",
       "                        <td id=\"T_0c3e486c_bfb8_11ed_8b1b_309c23923299row1_col0\" class=\"data row1 col0\" >52.591172</td>\n",
       "                        <td id=\"T_0c3e486c_bfb8_11ed_8b1b_309c23923299row1_col1\" class=\"data row1 col1\" >51.776157</td>\n",
       "                        <td id=\"T_0c3e486c_bfb8_11ed_8b1b_309c23923299row1_col2\" class=\"data row1 col2\" >39.290177</td>\n",
       "                        <td id=\"T_0c3e486c_bfb8_11ed_8b1b_309c23923299row1_col3\" class=\"data row1 col3\" >6.268188</td>\n",
       "                        <td id=\"T_0c3e486c_bfb8_11ed_8b1b_309c23923299row1_col4\" class=\"data row1 col4\" >0.469821</td>\n",
       "            </tr>\n",
       "            <tr>\n",
       "                        <th id=\"T_0c3e486c_bfb8_11ed_8b1b_309c23923299level0_row2\" class=\"row_heading level0 row2\" >Infubinol</th>\n",
       "                        <td id=\"T_0c3e486c_bfb8_11ed_8b1b_309c23923299row2_col0\" class=\"data row2 col0\" >52.884795</td>\n",
       "                        <td id=\"T_0c3e486c_bfb8_11ed_8b1b_309c23923299row2_col1\" class=\"data row2 col1\" >51.820584</td>\n",
       "                        <td id=\"T_0c3e486c_bfb8_11ed_8b1b_309c23923299row2_col2\" class=\"data row2 col2\" >43.128684</td>\n",
       "                        <td id=\"T_0c3e486c_bfb8_11ed_8b1b_309c23923299row2_col3\" class=\"data row2 col3\" >6.567243</td>\n",
       "                        <td id=\"T_0c3e486c_bfb8_11ed_8b1b_309c23923299row2_col4\" class=\"data row2 col4\" >0.492236</td>\n",
       "            </tr>\n",
       "            <tr>\n",
       "                        <th id=\"T_0c3e486c_bfb8_11ed_8b1b_309c23923299level0_row3\" class=\"row_heading level0 row3\" >Ketapril</th>\n",
       "                        <td id=\"T_0c3e486c_bfb8_11ed_8b1b_309c23923299row3_col0\" class=\"data row3 col0\" >55.235638</td>\n",
       "                        <td id=\"T_0c3e486c_bfb8_11ed_8b1b_309c23923299row3_col1\" class=\"data row3 col1\" >53.698743</td>\n",
       "                        <td id=\"T_0c3e486c_bfb8_11ed_8b1b_309c23923299row3_col2\" class=\"data row3 col2\" >68.553577</td>\n",
       "                        <td id=\"T_0c3e486c_bfb8_11ed_8b1b_309c23923299row3_col3\" class=\"data row3 col3\" >8.279709</td>\n",
       "                        <td id=\"T_0c3e486c_bfb8_11ed_8b1b_309c23923299row3_col4\" class=\"data row3 col4\" >0.603860</td>\n",
       "            </tr>\n",
       "            <tr>\n",
       "                        <th id=\"T_0c3e486c_bfb8_11ed_8b1b_309c23923299level0_row4\" class=\"row_heading level0 row4\" >Naftisol</th>\n",
       "                        <td id=\"T_0c3e486c_bfb8_11ed_8b1b_309c23923299row4_col0\" class=\"data row4 col0\" >54.331565</td>\n",
       "                        <td id=\"T_0c3e486c_bfb8_11ed_8b1b_309c23923299row4_col1\" class=\"data row4 col1\" >52.509285</td>\n",
       "                        <td id=\"T_0c3e486c_bfb8_11ed_8b1b_309c23923299row4_col2\" class=\"data row4 col2\" >66.173479</td>\n",
       "                        <td id=\"T_0c3e486c_bfb8_11ed_8b1b_309c23923299row4_col3\" class=\"data row4 col3\" >8.134708</td>\n",
       "                        <td id=\"T_0c3e486c_bfb8_11ed_8b1b_309c23923299row4_col4\" class=\"data row4 col4\" >0.596466</td>\n",
       "            </tr>\n",
       "            <tr>\n",
       "                        <th id=\"T_0c3e486c_bfb8_11ed_8b1b_309c23923299level0_row5\" class=\"row_heading level0 row5\" >Placebo</th>\n",
       "                        <td id=\"T_0c3e486c_bfb8_11ed_8b1b_309c23923299row5_col0\" class=\"data row5 col0\" >54.033581</td>\n",
       "                        <td id=\"T_0c3e486c_bfb8_11ed_8b1b_309c23923299row5_col1\" class=\"data row5 col1\" >52.288934</td>\n",
       "                        <td id=\"T_0c3e486c_bfb8_11ed_8b1b_309c23923299row5_col2\" class=\"data row5 col2\" >61.168083</td>\n",
       "                        <td id=\"T_0c3e486c_bfb8_11ed_8b1b_309c23923299row5_col3\" class=\"data row5 col3\" >7.821003</td>\n",
       "                        <td id=\"T_0c3e486c_bfb8_11ed_8b1b_309c23923299row5_col4\" class=\"data row5 col4\" >0.581331</td>\n",
       "            </tr>\n",
       "            <tr>\n",
       "                        <th id=\"T_0c3e486c_bfb8_11ed_8b1b_309c23923299level0_row6\" class=\"row_heading level0 row6\" >Propriva</th>\n",
       "                        <td id=\"T_0c3e486c_bfb8_11ed_8b1b_309c23923299row6_col0\" class=\"data row6 col0\" >52.320930</td>\n",
       "                        <td id=\"T_0c3e486c_bfb8_11ed_8b1b_309c23923299row6_col1\" class=\"data row6 col1\" >50.446266</td>\n",
       "                        <td id=\"T_0c3e486c_bfb8_11ed_8b1b_309c23923299row6_col2\" class=\"data row6 col2\" >43.852013</td>\n",
       "                        <td id=\"T_0c3e486c_bfb8_11ed_8b1b_309c23923299row6_col3\" class=\"data row6 col3\" >6.622085</td>\n",
       "                        <td id=\"T_0c3e486c_bfb8_11ed_8b1b_309c23923299row6_col4\" class=\"data row6 col4\" >0.544332</td>\n",
       "            </tr>\n",
       "            <tr>\n",
       "                        <th id=\"T_0c3e486c_bfb8_11ed_8b1b_309c23923299level0_row7\" class=\"row_heading level0 row7\" >Ramicane</th>\n",
       "                        <td id=\"T_0c3e486c_bfb8_11ed_8b1b_309c23923299row7_col0\" class=\"data row7 col0\" >40.216745</td>\n",
       "                        <td id=\"T_0c3e486c_bfb8_11ed_8b1b_309c23923299row7_col1\" class=\"data row7 col1\" >40.673236</td>\n",
       "                        <td id=\"T_0c3e486c_bfb8_11ed_8b1b_309c23923299row7_col2\" class=\"data row7 col2\" >23.486704</td>\n",
       "                        <td id=\"T_0c3e486c_bfb8_11ed_8b1b_309c23923299row7_col3\" class=\"data row7 col3\" >4.846308</td>\n",
       "                        <td id=\"T_0c3e486c_bfb8_11ed_8b1b_309c23923299row7_col4\" class=\"data row7 col4\" >0.320955</td>\n",
       "            </tr>\n",
       "            <tr>\n",
       "                        <th id=\"T_0c3e486c_bfb8_11ed_8b1b_309c23923299level0_row8\" class=\"row_heading level0 row8\" >Stelasyn</th>\n",
       "                        <td id=\"T_0c3e486c_bfb8_11ed_8b1b_309c23923299row8_col0\" class=\"data row8 col0\" >54.233149</td>\n",
       "                        <td id=\"T_0c3e486c_bfb8_11ed_8b1b_309c23923299row8_col1\" class=\"data row8 col1\" >52.431737</td>\n",
       "                        <td id=\"T_0c3e486c_bfb8_11ed_8b1b_309c23923299row8_col2\" class=\"data row8 col2\" >59.450562</td>\n",
       "                        <td id=\"T_0c3e486c_bfb8_11ed_8b1b_309c23923299row8_col3\" class=\"data row8 col3\" >7.710419</td>\n",
       "                        <td id=\"T_0c3e486c_bfb8_11ed_8b1b_309c23923299row8_col4\" class=\"data row8 col4\" >0.573111</td>\n",
       "            </tr>\n",
       "            <tr>\n",
       "                        <th id=\"T_0c3e486c_bfb8_11ed_8b1b_309c23923299level0_row9\" class=\"row_heading level0 row9\" >Zoniferol</th>\n",
       "                        <td id=\"T_0c3e486c_bfb8_11ed_8b1b_309c23923299row9_col0\" class=\"data row9 col0\" >53.236507</td>\n",
       "                        <td id=\"T_0c3e486c_bfb8_11ed_8b1b_309c23923299row9_col1\" class=\"data row9 col1\" >51.818479</td>\n",
       "                        <td id=\"T_0c3e486c_bfb8_11ed_8b1b_309c23923299row9_col2\" class=\"data row9 col2\" >48.533355</td>\n",
       "                        <td id=\"T_0c3e486c_bfb8_11ed_8b1b_309c23923299row9_col3\" class=\"data row9 col3\" >6.966589</td>\n",
       "                        <td id=\"T_0c3e486c_bfb8_11ed_8b1b_309c23923299row9_col4\" class=\"data row9 col4\" >0.516398</td>\n",
       "            </tr>\n",
       "    </tbody></table>"
      ],
      "text/plain": [
       "<pandas.io.formats.style.Styler at 0x1db21f00a48>"
      ]
     },
     "execution_count": 8,
     "metadata": {},
     "output_type": "execute_result"
    }
   ],
   "source": [
    "# Generate a summary statistics table of mean, median, variance, standard deviation, \n",
    "# and SEM of the tumor volume for each regimen\n",
    "# Using the aggregation method, produce the same summary statistics in a single line.\n",
    "stats_table = clean_mouse_df.groupby(\"Drug Regimen\").agg(['mean', 'median', 'var', 'std', 'sem'])[\"Tumor Volume (mm3)\"]\n",
    "styles = [dict(selector=\"caption\", props=[(\"text-align\", \"center\"), (\"font-size\", \"150%\"), (\"color\", 'black')])]\n",
    "stats_table = stats_table.style.set_caption(\"Tumor Volume (mm3)\").set_table_styles(styles)\n",
    "stats_table"
   ]
  },
  {
   "cell_type": "markdown",
   "metadata": {},
   "source": [
    "## Bar and Pie Charts"
   ]
  },
  {
   "cell_type": "code",
   "execution_count": 33,
   "metadata": {},
   "outputs": [
    {
     "data": {
      "image/png": "[encoded data removed]",
      "text/plain": [
       "<Figure size 432x288 with 1 Axes>"
      ]
     },
     "metadata": {
      "needs_background": "light"
     },
     "output_type": "display_data"
    }
   ],
   "source": [
    "#Testing how to add legend\n",
    "x1 = clean_mouse_df[\"Drug Regimen\"].unique()\n",
    "y1 = clean_mouse_df.groupby([\"Drug Regimen\"]).count()[\"Mouse ID\"]\n",
    "labels = \"Mice\"\n",
    "\n",
    "plt.bar(x1, y1)\n",
    "plt.xlabel(\"Drug Regimen\")\n",
    "plt.xticks(rotation=90)\n",
    "plt.ylabel(\"Number of Mice Tested\")\n",
    "plt.title(\"Number of Mice Tested per Drug Regimen\")\n",
    "plt.legend(labels)\n",
    "plt.show()"
   ]
  },
  {
   "cell_type": "code",
   "execution_count": 29,
   "metadata": {},
   "outputs": [
    {
     "data": {
      "image/png": "[encoded data removed]",
      "text/plain": [
       "<Figure size 432x288 with 1 Axes>"
      ]
     },
     "metadata": {
      "needs_background": "light"
     },
     "output_type": "display_data"
    }
   ],
   "source": [
    "# Generate a bar plot showing the total number of timepoints for all mice tested for each drug regimen using Pandas.\n",
    "bar0 = pd.concat([clean_mouse_df.groupby([\"Drug Regimen\"]).count()[\"Mouse ID\"]], axis=1)\n",
    "bar0.plot(kind='bar', title=\"Number of Mice Tested per Drug Regimen\")\n",
    "plt.ylabel(\"Number of Mice Tested\")\n",
    "plt.show()\n"
   ]
  },
  {
   "cell_type": "code",
   "execution_count": 34,
   "metadata": {},
   "outputs": [
    {
     "data": {
      "image/png": "[encoded data removed]",
      "text/plain": [
       "<Figure size 432x288 with 1 Axes>"
      ]
     },
     "metadata": {
      "needs_background": "light"
     },
     "output_type": "display_data"
    }
   ],
   "source": [
    "# Generate a bar plot showing the total number of timepoints for all mice tested for each drug regimen using pyplot.\n",
    "x1 = clean_mouse_df[\"Drug Regimen\"].unique()\n",
    "y1 = clean_mouse_df.groupby([\"Drug Regimen\"]).count()[\"Mouse ID\"]\n",
    "\n",
    "bar1 = plt.bar(x1, y1)\n",
    "plt.xlabel(\"Drug Regimen\")\n",
    "plt.xticks(rotation=90)\n",
    "plt.ylabel(\"Number of Mice Tested\")\n",
    "plt.title(\"Number of Mice Tested per Drug Regimen\")\n",
    "plt.show()\n"
   ]
  },
  {
   "cell_type": "code",
   "execution_count": 64,
   "metadata": {},
   "outputs": [
    {
     "data": {
      "image/png": "[encoded data removed]",
      "text/plain": [
       "<Figure size 432x288 with 1 Axes>"
      ]
     },
     "metadata": {},
     "output_type": "display_data"
    }
   ],
   "source": [
    "# Generate a pie plot showing the distribution of female versus male mice using Pandas\n",
    "pie0 = clean_mouse_df.groupby(\"Sex\").count()[\"Mouse ID\"]\n",
    "pie0.plot(kind='pie', y=\"Sex\", autopct=\"%1.1f%%\", title=\"Gender Split of Mice in Research\")\n",
    "plt.ylabel(\"Sex\")\n",
    "plt.axis(\"equal\")\n",
    "plt.show()\n"
   ]
  },
  {
   "cell_type": "code",
   "execution_count": 63,
   "metadata": {},
   "outputs": [
    {
     "data": {
      "image/png": "[encoded data removed]",
      "text/plain": [
       "<Figure size 432x288 with 1 Axes>"
      ]
     },
     "metadata": {},
     "output_type": "display_data"
    }
   ],
   "source": [
    "# Generate a pie plot showing the distribution of female versus male mice using pyplot\n",
    "pie0 = clean_mouse_df.groupby(\"Sex\").count()[\"Mouse ID\"]\n",
    "labels = [\"Male\", \"Female\"]\n",
    "sizes = [pie0[\"Male\"], pie0[\"Female\"]]\n",
    "\n",
    "plt.pie(sizes, labels=labels, autopct=\"%1.1f%%\")\n",
    "plt.title(\"Gender Split of Mice in Research\")\n",
    "plt.axis(\"equal\")\n",
    "plt.ylabel(\"Sex\")\n",
    "plt.show()\n"
   ]
  },
  {
   "cell_type": "markdown",
   "metadata": {},
   "source": [
    "## Quartiles, Outliers and Boxplots"
   ]
  },
  {
   "cell_type": "code",
   "execution_count": 13,
   "metadata": {},
   "outputs": [],
   "source": [
    "# Calculate the final tumor volume of each mouse across four of the treatment regimens:  \n",
    "# Capomulin, Ramicane, Infubinol, and Ceftamin\n",
    "\n",
    "# Start by getting the last (greatest) timepoint for each mouse\n",
    "\n",
    "\n",
    "# Merge this group df with the original DataFrame to get the tumor volume at the last timepoint\n"
   ]
  },
  {
   "cell_type": "code",
   "execution_count": 14,
   "metadata": {},
   "outputs": [
    {
     "name": "stdout",
     "output_type": "stream",
     "text": [
      "Capomulin's potential outliers: Series([], Name: Tumor Volume (mm3), dtype: float64)\n",
      "Ramicane's potential outliers: Series([], Name: Tumor Volume (mm3), dtype: float64)\n",
      "Infubinol's potential outliers: 31    36.321346\n",
      "Name: Tumor Volume (mm3), dtype: float64\n",
      "Ceftamin's potential outliers: Series([], Name: Tumor Volume (mm3), dtype: float64)\n"
     ]
    }
   ],
   "source": [
    "# Put treatments into a list for for loop (and later for plot labels)\n",
    "\n",
    "\n",
    "# Create empty list to fill with tumor vol data (for plotting)\n",
    "\n",
    "\n",
    "# Calculate the IQR and quantitatively determine if there are any potential outliers. \n",
    "\n",
    "    \n",
    "    # Locate the rows which contain mice on each drug and get the tumor volumes\n",
    "    \n",
    "    \n",
    "    # add subset \n",
    "    \n",
    "    \n",
    "    # Determine outliers using upper and lower bounds\n",
    "    "
   ]
  },
  {
   "cell_type": "code",
   "execution_count": 15,
   "metadata": {},
   "outputs": [
    {
     "data": {
      "image/png": "[encoded data removed]",
      "text/plain": [
       "<Figure size 432x288 with 1 Axes>"
      ]
     },
     "metadata": {
      "needs_background": "light"
     },
     "output_type": "display_data"
    }
   ],
   "source": [
    "# Generate a box plot that shows the distrubution of the tumor volume for each treatment group.\n",
    "\n"
   ]
  },
  {
   "cell_type": "markdown",
   "metadata": {},
   "source": [
    "## Line and Scatter Plots"
   ]
  },
  {
   "cell_type": "code",
   "execution_count": 16,
   "metadata": {},
   "outputs": [
    {
     "data": {
      "image/png": "[encoded data removed]",
      "text/plain": [
       "<Figure size 432x288 with 1 Axes>"
      ]
     },
     "metadata": {
      "needs_background": "light"
     },
     "output_type": "display_data"
    }
   ],
   "source": [
    "# Generate a line plot of tumor volume vs. time point for a mouse treated with Capomulin\n",
    "\n"
   ]
  },
  {
   "cell_type": "code",
   "execution_count": 17,
   "metadata": {},
   "outputs": [
    {
     "data": {
      "image/png": "[encoded data removed]",
      "text/plain": [
       "<Figure size 432x288 with 1 Axes>"
      ]
     },
     "metadata": {
      "needs_background": "light"
     },
     "output_type": "display_data"
    }
   ],
   "source": [
    "# Generate a scatter plot of average tumor volume vs. mouse weight for the Capomulin regimen\n",
    "\n"
   ]
  },
  {
   "cell_type": "markdown",
   "metadata": {},
   "source": [
    "## Correlation and Regression"
   ]
  },
  {
   "cell_type": "code",
   "execution_count": 18,
   "metadata": {},
   "outputs": [
    {
     "name": "stdout",
     "output_type": "stream",
     "text": [
      "The correlation between mouse weight and the average tumor volume is 0.84\n"
     ]
    },
    {
     "data": {
      "image/png": "[encoded data removed]",
      "text/plain": [
       "<Figure size 432x288 with 1 Axes>"
      ]
     },
     "metadata": {
      "needs_background": "light"
     },
     "output_type": "display_data"
    }
   ],
   "source": [
    "# Calculate the correlation coefficient and linear regression model \n",
    "# for mouse weight and average tumor volume for the Capomulin regimen\n",
    "\n"
   ]
  },
  {
   "cell_type": "code",
   "execution_count": null,
   "metadata": {},
   "outputs": [],
   "source": []
  }
 ],
 "metadata": {
  "anaconda-cloud": {},
  "kernelspec": {
   "display_name": "Python 3 (ipykernel)",
   "language": "python",
   "name": "python3"
  },
  "language_info": {
   "codemirror_mode": {
    "name": "ipython",
    "version": 3
   },
   "file_extension": ".py",
   "mimetype": "text/x-python",
   "name": "python",
   "nbconvert_exporter": "python",
   "pygments_lexer": "ipython3",
   "version": "3.7.7"
  }
 },
 "nbformat": 4,
 "nbformat_minor": 4
}
